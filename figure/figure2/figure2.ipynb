{
 "cells": [
  {
   "cell_type": "code",
   "execution_count": 1,
   "id": "051b635e",
   "metadata": {},
   "outputs": [],
   "source": [
    "import os\n",
    "import cv2"
   ]
  },
  {
   "cell_type": "code",
   "execution_count": 33,
   "id": "cbbce6de",
   "metadata": {},
   "outputs": [],
   "source": [
    "dirname = 'att'"
   ]
  },
  {
   "cell_type": "code",
   "execution_count": 35,
   "id": "6a21059f",
   "metadata": {},
   "outputs": [],
   "source": [
    "frames = [589, 590, 591, 592]\n",
    "ids = [19, 24, 16]\n",
    "colors = [(255, 0, 0), (0, 0, 255), (100,100,100)]\n",
    "colors_ = [(0, 0, 255), (255, 0, 0), (100,100,100)]\n",
    "dirlist = os.listdir(dirname)\n",
    "for i in range(len(dirlist)):\n",
    "    if 'txt' in dirlist[i]:\n",
    "        txtname = dirlist.pop(i)\n",
    "        break\n",
    "dirlist = sorted(dirlist)\n",
    "with open(os.path.join(dirname, txtname), 'r') as f:\n",
    "    lines = f.readlines()\n",
    "    lines = [line.strip().split(',') for line in lines]\n",
    "bbox = {frame:{} for frame in frames}\n",
    "for line in lines:\n",
    "    if int(line[0]) in frames and int(line[1]) in ids:\n",
    "        bbox[int(line[0])].update({\n",
    "            int(line[1]) : [round(float(x)) for x in line[2:6]]\n",
    "        })\n",
    "for i, frame in enumerate(frames):\n",
    "    imgName = f'000{frame}.jpg'\n",
    "    img = cv2.imread(os.path.join(dirname, imgName))\n",
    "    for j, id in enumerate(ids):\n",
    "        img = cv2.rectangle(\n",
    "            img, \n",
    "            (bbox[frame][id][0], bbox[frame][id][1]), \n",
    "            (bbox[frame][id][0]+bbox[frame][id][2], bbox[frame][id][1]+bbox[frame][id][3]),\n",
    "            color=colors_[j],\n",
    "            thickness=2\n",
    "        )\n",
    "        if frame-1 in bbox:\n",
    "            drawrect(\n",
    "                img, \n",
    "                (bbox[frame-1][id][0], bbox[frame-1][id][1]), \n",
    "                (bbox[frame-1][id][0]+bbox[frame-1][id][2], bbox[frame-1][id][1]+bbox[frame-1][id][3]),\n",
    "                color=colors[j],\n",
    "                thickness=2,\n",
    "                style='aa'\n",
    "            )\n",
    "    img = img[100:400, 500:750, :]\n",
    "    cv2.imwrite(os.path.join(dirname, imgName[:-4]+'_box__.jpg'), img)"
   ]
  },
  {
   "cell_type": "code",
   "execution_count": 29,
   "id": "54e5cbae",
   "metadata": {},
   "outputs": [],
   "source": [
    "import cv2\n",
    "import numpy as np\n",
    "def drawline(img,pt1,pt2,color,thickness=1,style='dotted',gap=4):\n",
    "    dist =((pt1[0]-pt2[0])**2+(pt1[1]-pt2[1])**2)**.5\n",
    "    pts= []\n",
    "    for i in  np.arange(0,dist,gap):\n",
    "        r=i/dist\n",
    "        x=int((pt1[0]*(1-r)+pt2[0]*r)+.5)\n",
    "        y=int((pt1[1]*(1-r)+pt2[1]*r)+.5)\n",
    "        p = (x,y)\n",
    "        pts.append(p)\n",
    "\n",
    "    if style=='dotted':\n",
    "        for p in pts:\n",
    "            cv2.circle(img,p,thickness,color,-1)\n",
    "    else:\n",
    "        s=pts[0]\n",
    "        e=pts[0]\n",
    "        i=0\n",
    "        for p in pts:\n",
    "            s=e\n",
    "            e=p\n",
    "            if i%2==1:\n",
    "                cv2.line(img,s,e,color,thickness)\n",
    "            i+=1\n",
    "\n",
    "def drawpoly(img,pts,color,thickness=1,style='dotted',):\n",
    "    s=pts[0]\n",
    "    e=pts[0]\n",
    "    pts.append(pts.pop(0))\n",
    "    for p in pts:\n",
    "        s=e\n",
    "        e=p\n",
    "        drawline(img,s,e,color,thickness,style)\n",
    "\n",
    "def drawrect(img,pt1,pt2,color,thickness=1,style='dotted'):\n",
    "    pts = [pt1,(pt2[0],pt1[1]),pt2,(pt1[0],pt2[1])] \n",
    "    drawpoly(img,pts,color,thickness,style)"
   ]
  },
  {
   "cell_type": "code",
   "execution_count": 47,
   "id": "febea35a",
   "metadata": {},
   "outputs": [],
   "source": [
    "dirlist = sorted(dirlist)"
   ]
  },
  {
   "cell_type": "code",
   "execution_count": null,
   "id": "048e97ef",
   "metadata": {},
   "outputs": [],
   "source": []
  }
 ],
 "metadata": {
  "kernelspec": {
   "display_name": "Python 3",
   "language": "python",
   "name": "python3"
  },
  "language_info": {
   "codemirror_mode": {
    "name": "ipython",
    "version": 3
   },
   "file_extension": ".py",
   "mimetype": "text/x-python",
   "name": "python",
   "nbconvert_exporter": "python",
   "pygments_lexer": "ipython3",
   "version": "3.8.8"
  }
 },
 "nbformat": 4,
 "nbformat_minor": 5
}
