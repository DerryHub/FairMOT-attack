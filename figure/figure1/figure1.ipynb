{
 "cells": [
  {
   "cell_type": "code",
   "execution_count": 3,
   "id": "051b635e",
   "metadata": {},
   "outputs": [],
   "source": [
    "import os\n",
    "import cv2"
   ]
  },
  {
   "cell_type": "code",
   "execution_count": 41,
   "id": "cbbce6de",
   "metadata": {},
   "outputs": [],
   "source": [
    "dirname = 'att'"
   ]
  },
  {
   "cell_type": "code",
   "execution_count": 49,
   "id": "6a21059f",
   "metadata": {},
   "outputs": [],
   "source": [
    "frames = [589, 590, 591, 592]\n",
    "ids = [19, 24, 16]\n",
    "colors = [(255, 0, 0), (0, 0, 255), (100,100,100)]\n",
    "dirlist = os.listdir(dirname)\n",
    "for i in range(len(dirlist)):\n",
    "    if 'txt' in dirlist[i]:\n",
    "        txtname = dirlist.pop(i)\n",
    "        break\n",
    "dirlist = sorted(dirlist)\n",
    "with open(os.path.join(dirname, txtname), 'r') as f:\n",
    "    lines = f.readlines()\n",
    "    lines = [line.strip().split(',') for line in lines]\n",
    "bbox = {frame:{} for frame in frames}\n",
    "for line in lines:\n",
    "    if int(line[0]) in frames and int(line[1]) in ids:\n",
    "        bbox[int(line[0])].update({\n",
    "            int(line[1]) : [round(float(x)) for x in line[2:6]]\n",
    "        })\n",
    "for i, imgName in enumerate(dirlist):\n",
    "    frame = frames[i]\n",
    "    img = cv2.imread(os.path.join(dirname, imgName))\n",
    "    for j, id in enumerate(ids):\n",
    "        img = cv2.rectangle(\n",
    "            img, \n",
    "            (bbox[frame][id][0], bbox[frame][id][1]), \n",
    "            (bbox[frame][id][0]+bbox[frame][id][2], bbox[frame][id][1]+bbox[frame][id][3]),\n",
    "            color=colors[j],\n",
    "            thickness=2\n",
    "        )\n",
    "    img = img[100:400, 500:750, :]\n",
    "    cv2.imwrite(os.path.join(dirname, imgName[:-4]+'_box.jpg'), img)"
   ]
  },
  {
   "cell_type": "code",
   "execution_count": 48,
   "id": "54e5cbae",
   "metadata": {},
   "outputs": [
    {
     "data": {
      "text/plain": [
       "['000589.jpg', '000592.jpg', '00590.jpg', '00591.jpg']"
      ]
     },
     "execution_count": 48,
     "metadata": {},
     "output_type": "execute_result"
    }
   ],
   "source": [
    "dirlist"
   ]
  },
  {
   "cell_type": "code",
   "execution_count": 47,
   "id": "febea35a",
   "metadata": {},
   "outputs": [],
   "source": [
    "dirlist = sorted(dirlist)"
   ]
  },
  {
   "cell_type": "code",
   "execution_count": null,
   "id": "048e97ef",
   "metadata": {},
   "outputs": [],
   "source": []
  }
 ],
 "metadata": {
  "kernelspec": {
   "display_name": "Python 3",
   "language": "python",
   "name": "python3"
  },
  "language_info": {
   "codemirror_mode": {
    "name": "ipython",
    "version": 3
   },
   "file_extension": ".py",
   "mimetype": "text/x-python",
   "name": "python",
   "nbconvert_exporter": "python",
   "pygments_lexer": "ipython3",
   "version": "3.8.8"
  }
 },
 "nbformat": 4,
 "nbformat_minor": 5
}
